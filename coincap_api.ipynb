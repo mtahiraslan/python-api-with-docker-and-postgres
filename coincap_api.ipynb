{
 "cells": [
  {
   "cell_type": "code",
   "execution_count": 1,
   "id": "initial_id",
   "metadata": {
    "collapsed": true,
    "ExecuteTime": {
     "end_time": "2024-04-03T09:28:03.704349500Z",
     "start_time": "2024-04-03T09:28:03.099553600Z"
    }
   },
   "outputs": [],
   "source": [
    "import pandas as pd\n",
    "from sqlalchemy import create_engine\n",
    "import requests"
   ]
  },
  {
   "cell_type": "code",
   "execution_count": 2,
   "outputs": [],
   "source": [
    "username = 'root'\n",
    "password = 'root'\n",
    "hostname = 'localhost:5432'\n",
    "database_name = 'postgres_db'"
   ],
   "metadata": {
    "collapsed": false,
    "ExecuteTime": {
     "end_time": "2024-04-03T09:28:05.654124500Z",
     "start_time": "2024-04-03T09:28:05.651115500Z"
    }
   },
   "id": "3786c1fc549a0075"
  },
  {
   "cell_type": "code",
   "execution_count": 3,
   "outputs": [],
   "source": [
    "connection_string = f'postgresql+psycopg2://{username}:{password}@{hostname}/{database_name}'"
   ],
   "metadata": {
    "collapsed": false,
    "ExecuteTime": {
     "end_time": "2024-04-03T09:28:08.107918300Z",
     "start_time": "2024-04-03T09:28:08.100691400Z"
    }
   },
   "id": "620498bfd143aeae"
  },
  {
   "cell_type": "code",
   "execution_count": 4,
   "outputs": [],
   "source": [
    "api_url = 'http://api.coincap.io/v2/assets'\n",
    "header = {\"Content-Type\": \"application/json\", \"Accept-Encoding\": \"deflate\"}"
   ],
   "metadata": {
    "collapsed": false,
    "ExecuteTime": {
     "end_time": "2024-04-03T09:28:09.111548400Z",
     "start_time": "2024-04-03T09:28:09.102036Z"
    }
   },
   "id": "22da9f3b4edb9407"
  },
  {
   "cell_type": "code",
   "execution_count": 5,
   "outputs": [
    {
     "name": "stdout",
     "output_type": "stream",
     "text": [
      "<Response [200]>\n"
     ]
    }
   ],
   "source": [
    "response = requests.get(api_url, headers=header)\n",
    "print(response)"
   ],
   "metadata": {
    "collapsed": false,
    "ExecuteTime": {
     "end_time": "2024-04-03T09:28:11.562159600Z",
     "start_time": "2024-04-03T09:28:10.969744600Z"
    }
   },
   "id": "e33538ee05de80ac"
  },
  {
   "cell_type": "code",
   "execution_count": 6,
   "outputs": [
    {
     "name": "stdout",
     "output_type": "stream",
     "text": [
      "{'data': [{'id': 'bitcoin', 'rank': '1', 'symbol': 'BTC', 'name': 'Bitcoin', 'supply': '19671900.0000000000000000', 'maxSupply': '21000000.0000000000000000', 'marketCapUsd': '1308081380659.3845421112223900', 'volumeUsd24Hr': '14839274654.7292618736235451', 'priceUsd': '66494.9181654738252081', 'changePercent24Hr': '0.2225684147820594', 'vwap24Hr': '65757.4266718169318587', 'explorer': 'https://blockchain.info/'}, {'id': 'ethereum', 'rank': '2', 'symbol': 'ETH', 'name': 'Ethereum', 'supply': '120069288.4506371900000000', 'maxSupply': None, 'marketCapUsd': '400601012753.5960542305281371', 'volumeUsd24Hr': '8809012909.6599867687018564', 'priceUsd': '3336.4153142149325676', 'changePercent24Hr': '-0.1665857999201907', 'vwap24Hr': '3292.9272858845513752', 'explorer': 'https://etherscan.io/'}, {'id': 'tether', 'rank': '3', 'symbol': 'USDT', 'name': 'Tether', 'supply': '105280728305.6839300000000000', 'maxSupply': None, 'marketCapUsd': '105371390595.6427367095154348', 'volumeUsd24Hr': '30222456420.4931888189937159', 'priceUsd': '1.0008611480127262', 'changePercent24Hr': '-0.0012929566454139', 'vwap24Hr': '1.0009424263721249', 'explorer': 'https://www.omniexplorer.info/asset/31'}, {'id': 'binance-coin', 'rank': '4', 'symbol': 'BNB', 'name': 'BNB', 'supply': '166801148.0000000000000000', 'maxSupply': '166801148.0000000000000000', 'marketCapUsd': '94440676343.0323988359771800', 'volumeUsd24Hr': '672934734.9851707407155374', 'priceUsd': '566.1872083939877850', 'changePercent24Hr': '0.9900453066677432', 'vwap24Hr': '554.9305607596393477', 'explorer': 'https://etherscan.io/token/0xB8c77482e45F1F44dE1745F52C74426C631bDD52'}, {'id': 'solana', 'rank': '5', 'symbol': 'SOL', 'name': 'Solana', 'supply': '444821192.7350364300000000', 'maxSupply': None, 'marketCapUsd': '84673839704.7793773135794697', 'volumeUsd24Hr': '1701872493.2001037407050939', 'priceUsd': '190.3547787014196040', 'changePercent24Hr': '4.3622490486951903', 'vwap24Hr': '183.2646633890802823', 'explorer': 'https://explorer.solana.com/'}, {'id': 'usd-coin', 'rank': '6', 'symbol': 'USDC', 'name': 'USDC', 'supply': '32919495194.5875740000000000', 'maxSupply': None, 'marketCapUsd': '32929053986.8049970730340491', 'volumeUsd24Hr': '2522620296.4481826059817724', 'priceUsd': '1.0002903687362434', 'changePercent24Hr': '0.0097079748188130', 'vwap24Hr': '1.0004708320281159', 'explorer': 'https://etherscan.io/token/0xa0b86991c6218b36c1d19d4a2e9eb0ce3606eb48'}, {'id': 'xrp', 'rank': '7', 'symbol': 'XRP', 'name': 'XRP', 'supply': '45404028640.0000000000000000', 'maxSupply': '100000000000.0000000000000000', 'marketCapUsd': '26838214922.4911233698176480', 'volumeUsd24Hr': '687020650.0066726292016065', 'priceUsd': '0.5910976564499657', 'changePercent24Hr': '-0.4604170363070803', 'vwap24Hr': '0.5872886388655664', 'explorer': 'https://xrpcharts.ripple.com/#/graph/'}, {'id': 'dogecoin', 'rank': '8', 'symbol': 'DOGE', 'name': 'Dogecoin', 'supply': '143730756383.7052600000000000', 'maxSupply': None, 'marketCapUsd': '26767294005.6229969001122718', 'volumeUsd24Hr': '1580034753.0267596661196900', 'priceUsd': '0.1862321932973394', 'changePercent24Hr': '0.8383244510527370', 'vwap24Hr': '0.1840826052402080', 'explorer': 'http://dogechain.info/chain/Dogecoin'}, {'id': 'cardano', 'rank': '9', 'symbol': 'ADA', 'name': 'Cardano', 'supply': '35593003067.3990000000000000', 'maxSupply': '45000000000.0000000000000000', 'marketCapUsd': '21066669366.7224834261715019', 'volumeUsd24Hr': '266276390.6323031218566613', 'priceUsd': '0.5918767047228520', 'changePercent24Hr': '0.6354792420470994', 'vwap24Hr': '0.5841359324208465', 'explorer': 'https://cardanoexplorer.com/'}, {'id': 'avalanche', 'rank': '10', 'symbol': 'AVAX', 'name': 'Avalanche', 'supply': '377416536.4228908000000000', 'maxSupply': '715748719.0000000000000000', 'marketCapUsd': '18142071512.0251352773881500', 'volumeUsd24Hr': '270446373.6582825900251244', 'priceUsd': '48.0690954455083999', 'changePercent24Hr': '0.9963613742699276', 'vwap24Hr': '47.2403588528997680', 'explorer': 'https://avascan.info/'}, {'id': 'shiba-inu', 'rank': '11', 'symbol': 'SHIB', 'name': 'Shiba Inu', 'supply': '589289410812691.0000000000000000', 'maxSupply': None, 'marketCapUsd': '16106036398.5652911008687364', 'volumeUsd24Hr': '427110470.8456181188683488', 'priceUsd': '0.0000273312842604', 'changePercent24Hr': '2.9104019364175834', 'vwap24Hr': '0.0000265717564641', 'explorer': 'https://etherscan.io/token/0x95ad61b0a150d79219dcf64e1e6cc01f0b64c4ce'}, {'id': 'bitcoin-cash', 'rank': '12', 'symbol': 'BCH', 'name': 'Bitcoin Cash', 'supply': '19687168.7500000000000000', 'maxSupply': '21000000.0000000000000000', 'marketCapUsd': '11985024647.3992446451745825', 'volumeUsd24Hr': '572656132.4616140257005121', 'priceUsd': '608.7733995473190956', 'changePercent24Hr': '0.3730650885654812', 'vwap24Hr': '623.9140342379321514', 'explorer': 'https://blockchair.com/bitcoin-cash/blocks'}, {'id': 'polkadot', 'rank': '13', 'symbol': 'DOT', 'name': 'Polkadot', 'supply': '1348310733.3017500000000000', 'maxSupply': None, 'marketCapUsd': '11763995569.3808223316654773', 'volumeUsd24Hr': '174365177.6407954236077291', 'priceUsd': '8.7249884457814051', 'changePercent24Hr': '0.6452404309806472', 'vwap24Hr': '8.5857690324861431', 'explorer': 'https://polkascan.io/polkadot'}, {'id': 'chainlink', 'rank': '14', 'symbol': 'LINK', 'name': 'Chainlink', 'supply': '587099970.4527867000000000', 'maxSupply': '1000000000.0000000000000000', 'marketCapUsd': '10656640505.3196748653669327', 'volumeUsd24Hr': '284290358.1341775945262705', 'priceUsd': '18.1513218219053865', 'changePercent24Hr': '0.5311457078232749', 'vwap24Hr': '17.9588635127837809', 'explorer': 'https://etherscan.io/token/0x514910771af9ca656af840dff83e8264ecf986ca'}, {'id': 'tron', 'rank': '15', 'symbol': 'TRX', 'name': 'TRON', 'supply': '87715383862.5245000000000000', 'maxSupply': None, 'marketCapUsd': '10372306717.7284555494996774', 'volumeUsd24Hr': '157815210.6407556823068367', 'priceUsd': '0.1182495733471893', 'changePercent24Hr': '1.1779819510446108', 'vwap24Hr': '0.1168770921526978', 'explorer': 'https://tronscan.org/#/'}, {'id': 'wrapped-bitcoin', 'rank': '16', 'symbol': 'WBTC', 'name': 'Wrapped Bitcoin', 'supply': '155417.8146596400000000', 'maxSupply': None, 'marketCapUsd': '10325175938.2392480816458723', 'volumeUsd24Hr': '130501133.1822477524986378', 'priceUsd': '66434.9576710433760413', 'changePercent24Hr': '0.0897609779287159', 'vwap24Hr': '65773.4807210910661848', 'explorer': 'https://etherscan.io/token/0x2260fac5e5542a773aa44fbcfedf7c193bc2c599'}, {'id': 'polygon', 'rank': '17', 'symbol': 'MATIC', 'name': 'Polygon', 'supply': '9902244238.7889540000000000', 'maxSupply': '10000000000.0000000000000000', 'marketCapUsd': '9100128487.7136945198598442', 'volumeUsd24Hr': '150525130.2926821598470811', 'priceUsd': '0.9189965696934417', 'changePercent24Hr': '1.1398783342413442', 'vwap24Hr': '0.9059609306163394', 'explorer': 'https://etherscan.io/token/0x7D1AfA7B718fb893dB30A3aBc0Cfc608AaCfeBB0'}, {'id': 'internet-computer', 'rank': '18', 'symbol': 'ICP', 'name': 'Internet Computer', 'supply': '461607777.2192926000000000', 'maxSupply': None, 'marketCapUsd': '8736341176.7447916305705608', 'volumeUsd24Hr': '149684014.8726801392055749', 'priceUsd': '18.9258968498584947', 'changePercent24Hr': '11.1908039411227899', 'vwap24Hr': '17.8532770382768001', 'explorer': 'https://www.dfinityexplorer.org/#/'}, {'id': 'litecoin', 'rank': '19', 'symbol': 'LTC', 'name': 'Litecoin', 'supply': '74380281.1075049300000000', 'maxSupply': '84000000.0000000000000000', 'marketCapUsd': '7572642220.0238352813825861', 'volumeUsd24Hr': '854018799.9027774354971385', 'priceUsd': '101.8098090954883443', 'changePercent24Hr': '1.8768301394277753', 'vwap24Hr': '104.3835421727212635', 'explorer': 'http://explorer.litecoin.net/chain/Litecoin'}, {'id': 'near-protocol', 'rank': '20', 'symbol': 'NEAR', 'name': 'NEAR Protocol', 'supply': '1054016312.0000000000000000', 'maxSupply': None, 'marketCapUsd': '7202097059.0638978087161728', 'volumeUsd24Hr': '197012361.8147375656949295', 'priceUsd': '6.8330034147174544', 'changePercent24Hr': '8.9169436659025872', 'vwap24Hr': '6.3636251997347532', 'explorer': 'https://explorer.nearprotocol.com/'}, {'id': 'uniswap', 'rank': '21', 'symbol': 'UNI', 'name': 'Uniswap', 'supply': '598736139.7100000000000000', 'maxSupply': '1000000000.0000000000000000', 'marketCapUsd': '6705170519.6873038450868461', 'volumeUsd24Hr': '130680558.9411011049313675', 'priceUsd': '11.1988738861411928', 'changePercent24Hr': '-2.2403225296790005', 'vwap24Hr': '11.2817508751795494', 'explorer': 'https://etherscan.io/token/0x1f9840a85d5af5bf1d1762f925bdaddc4201f984'}, {'id': 'unus-sed-leo', 'rank': '22', 'symbol': 'LEO', 'name': 'UNUS SED LEO', 'supply': '926763880.9000000000000000', 'maxSupply': None, 'marketCapUsd': '5606277364.0835576404538692', 'volumeUsd24Hr': '940665.4984946310826813', 'priceUsd': '6.0493049843927702', 'changePercent24Hr': '-0.6612018376632730', 'vwap24Hr': '5.9957295717224182', 'explorer': 'https://eospark.com/account/bitfinexleo1'}, {'id': 'multi-collateral-dai', 'rank': '23', 'symbol': 'DAI', 'name': 'Multi Collateral DAI', 'supply': '5347888595.7464075000000000', 'maxSupply': None, 'marketCapUsd': '5356576928.5762190632469082', 'volumeUsd24Hr': '267838971.3539368416082689', 'priceUsd': '1.0016246286126308', 'changePercent24Hr': '0.1723228222767897', 'vwap24Hr': '1.0012530158092854', 'explorer': 'https://etherscan.io/token/0x89d24a6b4ccb1b6faa2625fe562bdd9a23260359'}, {'id': 'stacks', 'rank': '24', 'symbol': 'STX', 'name': 'Stacks', 'supply': '1451333003.6466530000000000', 'maxSupply': '1818000000.0000000000000000', 'marketCapUsd': '4811611882.5394052095185456', 'volumeUsd24Hr': '64842807.7378204114201188', 'priceUsd': '3.3153052197184502', 'changePercent24Hr': '-3.0452368576424520', 'vwap24Hr': '3.3762284623463131', 'explorer': 'https://explorer.xinfin.network/'}, {'id': 'filecoin', 'rank': '25', 'symbol': 'FIL', 'name': 'Filecoin', 'supply': '531635885.0000000000000000', 'maxSupply': None, 'marketCapUsd': '4652561437.0743539090956435', 'volumeUsd24Hr': '228428909.5683949891613928', 'priceUsd': '8.7514059309114431', 'changePercent24Hr': '0.1739828147803075', 'vwap24Hr': '8.6394180810321647', 'explorer': 'https://protocol.ai'}, {'id': 'ethereum-classic', 'rank': '26', 'symbol': 'ETC', 'name': 'Ethereum Classic', 'supply': '146357785.4116373400000000', 'maxSupply': '210700000.0000000000000000', 'marketCapUsd': '4480467377.5548366215543962', 'volumeUsd24Hr': '126688292.4811717373701252', 'priceUsd': '30.6131126878787920', 'changePercent24Hr': '1.3727065004117443', 'vwap24Hr': '30.2861378319806765', 'explorer': 'http://gastracker.io/'}, {'id': 'stellar', 'rank': '27', 'symbol': 'XLM', 'name': 'Stellar', 'supply': '28843264023.9650880000000000', 'maxSupply': '50001806812.0000000000000000', 'marketCapUsd': '3761947332.7811273352713190', 'volumeUsd24Hr': '54953918.9282913487487618', 'priceUsd': '0.1304272404695747', 'changePercent24Hr': '0.4694865004248456', 'vwap24Hr': '0.1290054920027518', 'explorer': 'https://dashboard.stellar.org/'}, {'id': 'crypto-com-coin', 'rank': '28', 'symbol': 'CRO', 'name': 'Crypto.com Coin', 'supply': '25263013692.0000000000000000', 'maxSupply': '30263013692.0000000000000000', 'marketCapUsd': '3693671418.1449793235483280', 'volumeUsd24Hr': '10938081.2520590042623574', 'priceUsd': '0.1462086615309340', 'changePercent24Hr': '3.6865504243382688', 'vwap24Hr': '0.1417287377395056', 'explorer': 'https://etherscan.io/token/0xa0b73e1ff0b80914ab6fe0444e65848c4c34450b'}, {'id': 'render-token', 'rank': '29', 'symbol': 'RNDR', 'name': 'Render Token', 'supply': '369614008.1087959400000000', 'maxSupply': '536870912.0000000000000000', 'marketCapUsd': '3617470662.9629400045167896', 'volumeUsd24Hr': '27443869.3486516274896456', 'priceUsd': '9.7871579096053550', 'changePercent24Hr': '4.8411223016406717', 'vwap24Hr': '9.4802503976885024', 'explorer': 'https://etherscan.io/token/0x6de037ef9ad2725eb40118bb1702ebb27e4aeb24'}, {'id': 'okb', 'rank': '30', 'symbol': 'OKB', 'name': 'OKB', 'supply': '60000000.0000000000000000', 'maxSupply': None, 'marketCapUsd': '3447833560.8886314780000000', 'volumeUsd24Hr': '1241402.2328006421186718', 'priceUsd': '57.4638926814771913', 'changePercent24Hr': '-0.0982852992521301', 'vwap24Hr': '56.9010079711640254', 'explorer': 'https://etherscan.io/token/0x75231f58b43240c9718dd58b4967c5114342a86c'}, {'id': 'maker', 'rank': '31', 'symbol': 'MKR', 'name': 'Maker', 'supply': '924609.8691148300000000', 'maxSupply': '1005577.0000000000000000', 'marketCapUsd': '3442499489.4404533159801448', 'volumeUsd24Hr': '109622355.2887861524076117', 'priceUsd': '3723.1913744724687234', 'changePercent24Hr': '-3.7673044288547305', 'vwap24Hr': '3748.0221059687503694', 'explorer': 'https://etherscan.io/token/Maker'}, {'id': 'the-graph', 'rank': '32', 'symbol': 'GRT', 'name': 'The Graph', 'supply': '9456974073.7625450000000000', 'maxSupply': None, 'marketCapUsd': '3270636455.3116880247425627', 'volumeUsd24Hr': '57117084.5272592081888894', 'priceUsd': '0.3458438639887732', 'changePercent24Hr': '0.6642205904226637', 'vwap24Hr': '0.3369954943516991', 'explorer': 'https://etherscan.io/token/0xc944e90c64b2c07662a292be6244bdf05cda44a7'}, {'id': 'vechain', 'rank': '33', 'symbol': 'VET', 'name': 'VeChain', 'supply': '72714516834.0000000000000000', 'maxSupply': '86712634466.0000000000000000', 'marketCapUsd': '3115564180.8348829756020096', 'volumeUsd24Hr': '36451634.5731434804726100', 'priceUsd': '0.0428465224894144', 'changePercent24Hr': '3.4705340437915340', 'vwap24Hr': '0.0414581611287106', 'explorer': 'https://explore.veforge.com/'}, {'id': 'cosmos', 'rank': '34', 'symbol': 'ATOM', 'name': 'Cosmos', 'supply': '248453201.0000000000000000', 'maxSupply': None, 'marketCapUsd': '2778944464.3904047879612965', 'volumeUsd24Hr': '125042960.2346081542914764', 'priceUsd': '11.1849815305474965', 'changePercent24Hr': '1.1778635121522657', 'vwap24Hr': '11.0263404781674785', 'explorer': 'https://www.mintscan.io/'}, {'id': 'theta', 'rank': '35', 'symbol': 'THETA', 'name': 'THETA', 'supply': '1000000000.0000000000000000', 'maxSupply': '1000000000.0000000000000000', 'marketCapUsd': '2641199695.7631170000000000', 'volumeUsd24Hr': '31820502.2392961432566728', 'priceUsd': '2.6411996957631170', 'changePercent24Hr': '-0.6955712423357317', 'vwap24Hr': '2.6117590128223045', 'explorer': 'https://explorer.thetatoken.org/'}, {'id': 'thorchain', 'rank': '36', 'symbol': 'RUNE', 'name': 'THORChain', 'supply': '334728543.0000000000000000', 'maxSupply': None, 'marketCapUsd': '2590497153.8603541749112405', 'volumeUsd24Hr': '133524205.0831288923561495', 'priceUsd': '7.7390984666053835', 'changePercent24Hr': '2.6674038450642776', 'vwap24Hr': '7.5627814539895121', 'explorer': 'https://explorer.binance.org/asset/RUNE-B1A'}, {'id': 'fantom', 'rank': '37', 'symbol': 'FTM', 'name': 'Fantom', 'supply': '2803634835.5265927000000000', 'maxSupply': '3175000000.0000000000000000', 'marketCapUsd': '2501501637.1049855639698418', 'volumeUsd24Hr': '123600996.5687743016232139', 'priceUsd': '0.8922351817743558', 'changePercent24Hr': '0.3541812131988065', 'vwap24Hr': '0.8762478623633248', 'explorer': 'https://etherscan.io/token/0x4e15361fd6b4bb609fa63c81a2be19d873717870'}, {'id': 'injective-protocol', 'rank': '38', 'symbol': 'INJ', 'name': 'Injective', 'supply': '73005554.3300000000000000', 'maxSupply': '100000000.0000000000000000', 'marketCapUsd': '2494656831.9620681509084707', 'volumeUsd24Hr': '78870715.7623592616758215', 'priceUsd': '34.1707813173462161', 'changePercent24Hr': '6.2956845856532878', 'vwap24Hr': '32.8599296364360005', 'explorer': 'https://etherscan.io/token/0xe28b3b32b6c345a34ff64674606124dd5aceca30'}, {'id': 'lido-dao', 'rank': '39', 'symbol': 'LDO', 'name': 'Lido DAO', 'supply': '891719660.9621223000000000', 'maxSupply': '1000000000.0000000000000000', 'marketCapUsd': '2379589931.8724198561275707', 'volumeUsd24Hr': '7570189.5474543693125118', 'priceUsd': '2.6685403900424912', 'changePercent24Hr': '2.2481946522744955', 'vwap24Hr': '2.6326313286245824', 'explorer': 'https://etherscan.io/token/0x5a98fcbea516cf06857215779fd812ca3bef1b32'}, {'id': 'fetch', 'rank': '40', 'symbol': 'FET', 'name': 'Fetch.ai', 'supply': '840777916.3565964000000000', 'maxSupply': None, 'marketCapUsd': '2287559846.5845706489132108', 'volumeUsd24Hr': '182659935.6698019830699562', 'priceUsd': '2.7207658551468844', 'changePercent24Hr': '1.7102408897188817', 'vwap24Hr': '2.7032595199272666', 'explorer': 'https://etherscan.io/token/0x1d287cc25dad7ccaf76a26bc660c5f7c8e2a05bd'}, {'id': 'monero', 'rank': '41', 'symbol': 'XMR', 'name': 'Monero', 'supply': '18418639.7064167300000000', 'maxSupply': None, 'marketCapUsd': '2285698768.4276763746728750', 'volumeUsd24Hr': '40683454.5485575191559716', 'priceUsd': '124.0970454311769365', 'changePercent24Hr': '4.0412541161242691', 'vwap24Hr': '120.7685263196733340', 'explorer': 'http://moneroblocks.info/'}, {'id': 'arweave', 'rank': '42', 'symbol': 'AR', 'name': 'Arweave', 'supply': '65454185.0000000000000000', 'maxSupply': '66000000.0000000000000000', 'marketCapUsd': '2273655134.5605394897138730', 'volumeUsd24Hr': '25407931.1193219191965211', 'priceUsd': '34.7365891815861658', 'changePercent24Hr': '2.6162239076983223', 'vwap24Hr': '34.1393796503074455', 'explorer': 'https://viewblock.io/arweave'}, {'id': 'algorand', 'rank': '43', 'symbol': 'ALGO', 'name': 'Algorand', 'supply': '8082291092.3496710000000000', 'maxSupply': '10000000000.0000000000000000', 'marketCapUsd': '1961131220.9049921464397774', 'volumeUsd24Hr': '40021590.4376866178843921', 'priceUsd': '0.2426454576427357', 'changePercent24Hr': '2.5454360306623401', 'vwap24Hr': '0.2359025659512524', 'explorer': 'https://algoexplorer.io/'}, {'id': 'flow', 'rank': '44', 'symbol': 'FLOW', 'name': 'Flow', 'supply': '1497662370.0000000000000000', 'maxSupply': None, 'marketCapUsd': '1820585132.1769825363040370', 'volumeUsd24Hr': '34434146.9675933981847995', 'priceUsd': '1.2156178646439401', 'changePercent24Hr': '2.8466621200894416', 'vwap24Hr': '1.1733919107273294', 'explorer': 'https://flowscan.org/'}, {'id': 'gala', 'rank': '45', 'symbol': 'GALA', 'name': 'Gala', 'supply': '30489821765.4474560000000000', 'maxSupply': None, 'marketCapUsd': '1791609822.0009226101299716', 'volumeUsd24Hr': '90716549.8324477632873787', 'priceUsd': '0.0587609148975499', 'changePercent24Hr': '1.1883566908169770', 'vwap24Hr': '0.0572825193382627', 'explorer': 'https://ethplorer.io/es/address/0x15d4c048f83bd7e37d49ea4c83a07267ec4203da#chart=candlestick'}, {'id': 'aave', 'rank': '46', 'symbol': 'AAVE', 'name': 'Aave', 'supply': '14796520.7979207800000000', 'maxSupply': '16000000.0000000000000000', 'marketCapUsd': '1754420629.7700982522327137', 'volumeUsd24Hr': '53802798.0543961288526155', 'priceUsd': '118.5698079792265063', 'changePercent24Hr': '1.9397801925240904', 'vwap24Hr': '115.6407549853998920', 'explorer': 'https://etherscan.io/token/0x80fB784B7eD66730e8b1DBd9820aFD29931aab03'}, {'id': 'bitcoin-sv', 'rank': '47', 'symbol': 'BSV', 'name': 'Bitcoin SV', 'supply': '19678093.7500000000000000', 'maxSupply': None, 'marketCapUsd': '1741191698.9765299850443875', 'volumeUsd24Hr': '20389885.7364878413793384', 'priceUsd': '88.4837586962166996', 'changePercent24Hr': '2.2244699550765051', 'vwap24Hr': '86.5108821795679655', 'explorer': 'https://bsvexplorer.io/'}, {'id': 'hedera-hashgraph', 'rank': '48', 'symbol': 'HBAR', 'name': 'Hedera Hashgraph', 'supply': '14832756028.0000000000000000', 'maxSupply': '50000000000.0000000000000000', 'marketCapUsd': '1582890458.8081688839054724', 'volumeUsd24Hr': '25418077.0582156079520447', 'priceUsd': '0.1067158696482383', 'changePercent24Hr': '1.1539925664926008', 'vwap24Hr': '0.1047478363988438', 'explorer': 'https://hash-hash.info/'}, {'id': 'quant', 'rank': '49', 'symbol': 'QNT', 'name': 'Quant', 'supply': '12072738.0000000000000000', 'maxSupply': '14881364.0000000000000000', 'marketCapUsd': '1492091323.6971324001267356', 'volumeUsd24Hr': '18234745.0486451121106001', 'priceUsd': '123.5917919942545262', 'changePercent24Hr': '1.6831020504019810', 'vwap24Hr': '120.8421981882679514', 'explorer': 'https://etherscan.io/token/0x4a220e6096b25eadb88358cb44068a3248254675'}, {'id': 'conflux-network', 'rank': '50', 'symbol': 'CFX', 'name': 'Conflux', 'supply': '3848767374.7900000000000000', 'maxSupply': None, 'marketCapUsd': '1435451801.6172292042486338', 'volumeUsd24Hr': '53156224.5174900426484971', 'priceUsd': '0.3729640328536488', 'changePercent24Hr': '1.4901832972599192', 'vwap24Hr': '0.3671703264600610', 'explorer': 'http://www.confluxscan.io/'}, {'id': 'singularitynet', 'rank': '51', 'symbol': 'AGIX', 'name': 'SingularityNET', 'supply': '1279461012.6426194000000000', 'maxSupply': '2000000000.0000000000000000', 'marketCapUsd': '1411566687.6535816649034655', 'volumeUsd24Hr': '8590807.2327061695772032', 'priceUsd': '1.1032510359484179', 'changePercent24Hr': '0.6221423527945531', 'vwap24Hr': '1.0935978193020713', 'explorer': 'https://etherscan.io/token/0x8eb24319393716668d768dcec29356ae9cffe285'}, {'id': 'axie-infinity', 'rank': '52', 'symbol': 'AXS', 'name': 'Axie Infinity', 'supply': '142841264.6189215500000000', 'maxSupply': '270000000.0000000000000000', 'marketCapUsd': '1402098729.4264448844849865', 'volumeUsd24Hr': '31611002.5820008198747461', 'priceUsd': '9.8157821072715081', 'changePercent24Hr': '2.1038452710676627', 'vwap24Hr': '9.5922688650390532', 'explorer': 'https://etherscan.io/token/0xf5d669627376ebd411e34b98f19c868c8aba5ada'}, {'id': 'the-sandbox', 'rank': '53', 'symbol': 'SAND', 'name': 'The Sandbox', 'supply': '2251731926.2233224000000000', 'maxSupply': '3000000000.0000000000000000', 'marketCapUsd': '1395886067.6321257791356710', 'volumeUsd24Hr': '42561666.4311214164053470', 'priceUsd': '0.6199166301174008', 'changePercent24Hr': '-0.2521422545415342', 'vwap24Hr': '0.6124588676060872', 'explorer': 'https://etherscan.io/token/0x3845badAde8e6dFF049820680d1F14bD3903a5d0'}, {'id': 'elrond-egld', 'rank': '54', 'symbol': 'EGLD', 'name': 'MultiversX', 'supply': '24184559.1898415400000000', 'maxSupply': '31415926.0000000000000000', 'marketCapUsd': '1343005332.3954621133981337', 'volumeUsd24Hr': '23159947.2269411215623122', 'priceUsd': '55.5315200022159940', 'changePercent24Hr': '3.6537841236312158', 'vwap24Hr': '53.6522264835003022', 'explorer': 'https://explorer.elrond.com/'}, {'id': 'ecash', 'rank': '55', 'symbol': 'XEC', 'name': 'eCash', 'supply': '19679610923092.0000000000000000', 'maxSupply': '21000000000000.0000000000000000', 'marketCapUsd': '1248168275.1496242659515724', 'volumeUsd24Hr': '16703945.1016755540821542', 'priceUsd': '0.0000634244386247', 'changePercent24Hr': '1.3964160038384247', 'vwap24Hr': '0.0000624187004369', 'explorer': 'https://explorer.bitcoinabc.org/'}, {'id': 'tezos', 'rank': '56', 'symbol': 'XTZ', 'name': 'Tezos', 'supply': '976764480.1240220000000000', 'maxSupply': None, 'marketCapUsd': '1227773365.5858139687059676', 'volumeUsd24Hr': '24777212.9849694676327196', 'priceUsd': '1.2569799481548723', 'changePercent24Hr': '0.4340295058445744', 'vwap24Hr': '1.2400650229246915', 'explorer': 'https://tzkt.io/'}, {'id': 'pendle', 'rank': '57', 'symbol': 'PENDLE', 'name': 'Pendle', 'supply': '238185588.2446348700000000', 'maxSupply': '258446029.0000000000000000', 'marketCapUsd': '1198337433.8925496501891264', 'volumeUsd24Hr': '6788233.0756894962992206', 'priceUsd': '5.0311080646145777', 'changePercent24Hr': '-0.0875471294574772', 'vwap24Hr': '5.1051560602252838', 'explorer': 'https://etherscan.io/token/0x808507121b80c02388fad14726482e061b8da827'}, {'id': 'chiliz', 'rank': '58', 'symbol': 'CHZ', 'name': 'Chiliz', 'supply': '8888289967.1249620000000000', 'maxSupply': '8888888888.0000000000000000', 'marketCapUsd': '1182690232.6622734564935108', 'volumeUsd24Hr': '30804711.5332530586925262', 'priceUsd': '0.1330616166930511', 'changePercent24Hr': '1.1706876359240937', 'vwap24Hr': '0.1304856629958684', 'explorer': 'https://etherscan.io/token/0x3506424f91fd33084466f402d5d97f05f8e3b4af'}, {'id': 'mina', 'rank': '59', 'symbol': 'MINA', 'name': 'Mina', 'supply': '1079433877.8400393000000000', 'maxSupply': None, 'marketCapUsd': '1172311951.4103214160258666', 'volumeUsd24Hr': '22971099.4103473698039776', 'priceUsd': '1.0860433190740060', 'changePercent24Hr': '1.8818338832500449', 'vwap24Hr': '1.0541224890907578', 'explorer': 'https://minaexplorer.com/'}, {'id': 'decentraland', 'rank': '60', 'symbol': 'MANA', 'name': 'Decentraland', 'supply': '1908319865.3915880000000000', 'maxSupply': None, 'marketCapUsd': '1135311548.8021243729633111', 'volumeUsd24Hr': '23346168.1494745516152415', 'priceUsd': '0.5949272810033647', 'changePercent24Hr': '0.3696700374286876', 'vwap24Hr': '0.5886766432349057', 'explorer': 'https://etherscan.io/token/decentraland'}, {'id': 'eos', 'rank': '61', 'symbol': 'EOS', 'name': 'EOS', 'supply': '1121889347.1050000000000000', 'maxSupply': None, 'marketCapUsd': '1108216747.1288498442061625', 'volumeUsd24Hr': '86677956.0827411241285798', 'priceUsd': '0.9878128801102962', 'changePercent24Hr': '1.2616391534067262', 'vwap24Hr': '0.9704953109614820', 'explorer': 'https://bloks.io/'}, {'id': 'neo', 'rank': '62', 'symbol': 'NEO', 'name': 'Neo', 'supply': '70538831.0000000000000000', 'maxSupply': '100000000.0000000000000000', 'marketCapUsd': '1044300721.1874941936556236', 'volumeUsd24Hr': '17833188.3146428936189941', 'priceUsd': '14.8046218853200756', 'changePercent24Hr': '1.2244121213963717', 'vwap24Hr': '14.5668368853941381', 'explorer': 'https://neotracker.io'}, {'id': 'kava', 'rank': '63', 'symbol': 'KAVA', 'name': 'Kava', 'supply': '1082860629.0000000000000000', 'maxSupply': '1082860679.0000000000000000', 'marketCapUsd': '1043493729.1884840285824457', 'volumeUsd24Hr': '31955892.0102144868357843', 'priceUsd': '0.9636454602215333', 'changePercent24Hr': '-2.5976374794244802', 'vwap24Hr': '0.9300493583158169', 'explorer': 'https://www.mintscan.io/kava'}, {'id': 'akash-network', 'rank': '64', 'symbol': 'AKT', 'name': 'Akash Network', 'supply': '232363212.6071460000000000', 'maxSupply': '388539008.0000000000000000', 'marketCapUsd': '1034270246.3578451958951411', 'volumeUsd24Hr': '2015482.9459834701675451', 'priceUsd': '4.4510929021560519', 'changePercent24Hr': '2.9913671350170412', 'vwap24Hr': '4.4437811225526068', 'explorer': 'https://akash.bigdipper.live/'}, {'id': 'kucoin-token', 'rank': '65', 'symbol': 'KCS', 'name': 'KuCoin Token', 'supply': '96132689.2887907500000000', 'maxSupply': '170118638.0000000000000000', 'marketCapUsd': '1025056021.9995754091512673', 'volumeUsd24Hr': '4234831.5765961039063002', 'priceUsd': '10.6629288079127819', 'changePercent24Hr': '-1.4474502739602671', 'vwap24Hr': '10.5381316503420905', 'explorer': 'https://etherscan.io/token/0xf34960d9d60be18cc1d5afc1a6f012a723a28811'}, {'id': 'iota', 'rank': '66', 'symbol': 'IOTA', 'name': 'IOTA', 'supply': '3210367601.0000000000000000', 'maxSupply': None, 'marketCapUsd': '1000097401.6567764459101145', 'volumeUsd24Hr': '11451418.2483361520739813', 'priceUsd': '0.3115211483399145', 'changePercent24Hr': '1.5913330951545277', 'vwap24Hr': '0.3126271051057967', 'explorer': 'https://thetangle.org/'}, {'id': 'pancakeswap', 'rank': '67', 'symbol': 'CAKE', 'name': 'PancakeSwap', 'supply': '245323833.7193947400000000', 'maxSupply': '450000000.0000000000000000', 'marketCapUsd': '992850657.6347749768750675', 'volumeUsd24Hr': '28501167.8890058629817707', 'priceUsd': '4.0471023242299938', 'changePercent24Hr': '-0.2677870271202838', 'vwap24Hr': '3.9661383248772571', 'explorer': 'https://bscscan.com/token/0x0e09fabb73bd3ade0a17ecc321fd13a19e81ce82'}, {'id': 'synthetix-network-token', 'rank': '68', 'symbol': 'SNX', 'name': 'Synthetix', 'supply': '233716733.4900000000000000', 'maxSupply': '212424133.0000000000000000', 'marketCapUsd': '982697280.5349120714044780', 'volumeUsd24Hr': '28004702.4218652042139644', 'priceUsd': '4.2046509287575619', 'changePercent24Hr': '0.7938482320559386', 'vwap24Hr': '4.0879109550615142', 'explorer': 'https://etherscan.io/token/0xc011a72400e58ecd99ee497cf89e3775d4bd732f'}, {'id': 'aioz-network', 'rank': '69', 'symbol': 'AIOZ', 'name': 'AIOZ Network', 'supply': '1083957637.1783943000000000', 'maxSupply': None, 'marketCapUsd': '956809649.0784700124743036', 'volumeUsd24Hr': '6564254.2723131540175127', 'priceUsd': '0.8827002239396569', 'changePercent24Hr': '5.4082329271134995', 'vwap24Hr': '0.8502114028353502', 'explorer': 'https://etherscan.io/token/0x626e8036deb333b408be468f951bdb42433cbf18'}, {'id': 'helium', 'rank': '70', 'symbol': 'HNT', 'name': 'Helium', 'supply': '160875441.8242133300000000', 'maxSupply': '223000000.0000000000000000', 'marketCapUsd': '933697327.0697086325350554', 'volumeUsd24Hr': '3273851.6708904509096503', 'priceUsd': '5.8038524493374727', 'changePercent24Hr': '2.0426726606686348', 'vwap24Hr': '5.6206001710651513', 'explorer': 'https://explorer.helium.com/'}, {'id': 'klaytn', 'rank': '71', 'symbol': 'KLAY', 'name': 'Klaytn', 'supply': '3619648673.2097936000000000', 'maxSupply': None, 'marketCapUsd': '907945144.9106928232486312', 'volumeUsd24Hr': '5261296.8639498527993312', 'priceUsd': '0.2508379201635486', 'changePercent24Hr': '4.6401406630934335', 'vwap24Hr': '0.2404349640442791', 'explorer': 'https://scope.klaytn.com/blocks'}, {'id': 'ribbon-finance', 'rank': '72', 'symbol': 'RBN', 'name': 'Ribbon Finance', 'supply': '537093440.4611390000000000', 'maxSupply': None, 'marketCapUsd': '881859250.4229080982418861', 'volumeUsd24Hr': '2767493.4427331914395779', 'priceUsd': '1.6419102971463573', 'changePercent24Hr': '-3.4399657361934564', 'vwap24Hr': '1.6649351161015464', 'explorer': 'https://etherscan.io/token/0x6123B0049F904d730dB3C36a31167D9d4121fA6B'}, {'id': 'gnosis-gno', 'rank': '73', 'symbol': 'GNO', 'name': 'Gnosis', 'supply': '2589588.0000000000000000', 'maxSupply': '3000000.0000000000000000', 'marketCapUsd': '868622361.7696897484577888', 'volumeUsd24Hr': '5098721.5728925191989625', 'priceUsd': '335.4287870385905976', 'changePercent24Hr': '1.5703815796654297', 'vwap24Hr': '327.0271818607663163', 'explorer': 'https://etherscan.io/token/Gnosis'}, {'id': 'oasis-network', 'rank': '74', 'symbol': 'ROSE', 'name': 'Oasis Network', 'supply': '6713599876.0000000000000000', 'maxSupply': '10000000000.0000000000000000', 'marketCapUsd': '861067470.6473844521388576', 'volumeUsd24Hr': '16109605.9659781391180206', 'priceUsd': '0.1282571923485576', 'changePercent24Hr': '5.6254608707615609', 'vwap24Hr': '0.1221244934297452', 'explorer': 'https://www.oasisscan.com/'}, {'id': 'gatetoken', 'rank': '75', 'symbol': 'GT', 'name': 'GateToken', 'supply': '96481433.4854256700000000', 'maxSupply': None, 'marketCapUsd': '830561696.5909285038970685', 'volumeUsd24Hr': '26705000.6841505732907399', 'priceUsd': '8.6085132298163026', 'changePercent24Hr': '-3.2032100617741828', 'vwap24Hr': '8.7574296466304123', 'explorer': None}, {'id': 'wootrade', 'rank': '76', 'symbol': 'WOO', 'name': 'WOO', 'supply': '1845382142.7639940000000000', 'maxSupply': None, 'marketCapUsd': '821281576.7154460477010540', 'volumeUsd24Hr': '13583539.2688536475305223', 'priceUsd': '0.4450468863242272', 'changePercent24Hr': '-4.1578480748939023', 'vwap24Hr': '0.4409977613792212', 'explorer': 'https://etherscan.io/token/0x4691937a7508860f876c9c0a2a617e7d9e945d4b'}, {'id': 'wemix', 'rank': '77', 'symbol': 'WEMIX', 'name': 'WEMIX', 'supply': '365655817.1941709500000000', 'maxSupply': '980000000.0000000000000000', 'marketCapUsd': '801350629.0135167005030814', 'volumeUsd24Hr': '15053503.3694585918316054', 'priceUsd': '2.1915434989182262', 'changePercent24Hr': '5.8414844523562254', 'vwap24Hr': '2.0517815557162808', 'explorer': 'https://scope.klaytn.com/token/0x5096db80b21ef45230c9e423c373f1fc9c0198dd?tabId=kctTransfer'}, {'id': 'nervos-network', 'rank': '78', 'symbol': 'CKB', 'name': 'Nervos Network', 'supply': '43877857816.0639950000000000', 'maxSupply': None, 'marketCapUsd': '767633397.1418360014416024', 'volumeUsd24Hr': '33998425.3552237913100110', 'priceUsd': '0.0174947783540335', 'changePercent24Hr': '1.0737814544624826', 'vwap24Hr': '0.0170002704405213', 'explorer': 'https://explorer.nervos.org/'}, {'id': 'nexo', 'rank': '79', 'symbol': 'NEXO', 'name': 'Nexo', 'supply': '560000011.0000000000000000', 'maxSupply': None, 'marketCapUsd': '727342105.0634273431068860', 'volumeUsd24Hr': '1448205.7426035115203044', 'priceUsd': '1.2988251621006260', 'changePercent24Hr': '1.4240914607012670', 'vwap24Hr': '1.2774703354536938', 'explorer': 'https://etherscan.io/token/0xb62132e35a6c13ee1ee0f84dc5d40bad8d815206'}, {'id': 'curve-dao-token', 'rank': '80', 'symbol': 'CRV', 'name': 'Curve DAO Token', 'supply': '1171878238.0000000000000000', 'maxSupply': '3303030299.0000000000000000', 'marketCapUsd': '726234005.8151908633450050', 'volumeUsd24Hr': '6727526.6333623454013629', 'priceUsd': '0.6197179726236975', 'changePercent24Hr': '1.1664014023847359', 'vwap24Hr': '0.6091651159172770', 'explorer': 'https://etherscan.io/token/0xD533a949740bb3306d119CC777fa900bA034cd52'}, {'id': 'iotex', 'rank': '81', 'symbol': 'IOTX', 'name': 'IoTeX', 'supply': '9441378955.0000000000000000', 'maxSupply': '10000000000.0000000000000000', 'marketCapUsd': '694325537.9766537474701405', 'volumeUsd24Hr': '40333527.5558846497247980', 'priceUsd': '0.0735406915966391', 'changePercent24Hr': '9.3188567470537053', 'vwap24Hr': '0.0688441262296742', 'explorer': 'https://etherscan.io/token/0x6fb3e0a217407efff7ca062d46c26e5d60a14d69'}, {'id': 'skale-network', 'rank': '82', 'symbol': 'SKL', 'name': 'SKALE', 'supply': '5339102671.0000000000000000', 'maxSupply': '7000000000.0000000000000000', 'marketCapUsd': '663780853.8139449077028643', 'volumeUsd24Hr': '39850754.9644448953319093', 'priceUsd': '0.1243244220455533', 'changePercent24Hr': '13.6964572500690009', 'vwap24Hr': '0.1132000728899929', 'explorer': 'https://etherscan.io/token/0x00c83aecc790e8a4453e5dd3b0b4b3680501a7a7'}, {'id': 'ocean-protocol', 'rank': '83', 'symbol': 'OCEAN', 'name': 'Ocean Protocol', 'supply': '568381102.7486407000000000', 'maxSupply': '1410000000.0000000000000000', 'marketCapUsd': '657958780.9991986827100295', 'volumeUsd24Hr': '27403252.0891675645947262', 'priceUsd': '1.1576014364611495', 'changePercent24Hr': '1.0224635141431518', 'vwap24Hr': '1.1328624529111273', 'explorer': 'https://etherscan.io/token/0x7AFeBBB46fDb47ed17b22ed075Cde2447694fB9e'}, {'id': '1inch', 'rank': '84', 'symbol': '1INCH', 'name': '1inch Network', 'supply': '1145700960.0755770000000000', 'maxSupply': None, 'marketCapUsd': '635890325.7741615217023671', 'volumeUsd24Hr': '29414200.5432473153492591', 'priceUsd': '0.5550229492102499', 'changePercent24Hr': '0.3574348252681303', 'vwap24Hr': '0.5469514343815979', 'explorer': 'https://etherscan.io/token/0x111111111117dc0aa78b770fa6a738034120c302'}, {'id': 'blox', 'rank': '85', 'symbol': 'CDT', 'name': 'Blox', 'supply': '1000000000.0000000000000000', 'maxSupply': None, 'marketCapUsd': '624875587.4485020000000000', 'volumeUsd24Hr': '361309.1387419801563532', 'priceUsd': '0.6248755874485020', 'changePercent24Hr': '-3.4268662117469345', 'vwap24Hr': None, 'explorer': 'https://etherscan.io/token/0x177d39ac676ed1c67a2b268ad7f1e58826e5b0af'}, {'id': 'enjin-coin', 'rank': '86', 'symbol': 'ENJ', 'name': 'Enjin Coin', 'supply': '1379841765.7600000000000000', 'maxSupply': None, 'marketCapUsd': '621910707.8896478467842354', 'volumeUsd24Hr': '11865831.8267719155120996', 'priceUsd': '0.4507116129704242', 'changePercent24Hr': '2.6819858984979735', 'vwap24Hr': '0.4372474975295202', 'explorer': 'https://etherscan.io/token/0xf629cbd94d3791c9250152bd8dfbdf380e2a3b9c'}, {'id': 'raydium', 'rank': '87', 'symbol': 'RAY', 'name': 'Raydium', 'supply': '259770893.8570870000000000', 'maxSupply': '555000000.0000000000000000', 'marketCapUsd': '605901554.7171785297036537', 'volumeUsd24Hr': '61643127.3787111001293061', 'priceUsd': '2.3324458938441170', 'changePercent24Hr': '10.7584594008569353', 'vwap24Hr': '2.2619333863025079', 'explorer': 'https://explorer.solana.com/address/4k3Dyjzvzp8eMZWUXbBCjEvwSkkk59S5iCNLY3QrkX6R'}, {'id': 'superfarm', 'rank': '88', 'symbol': 'SUPER', 'name': 'SuperVerse', 'supply': '487776093.4169172600000000', 'maxSupply': '1000000000.0000000000000000', 'marketCapUsd': '603911136.1041147659973093', 'volumeUsd24Hr': '5073967.8985911582151472', 'priceUsd': '1.2380908868937398', 'changePercent24Hr': '3.6043434884446776', 'vwap24Hr': '1.1959325941457089', 'explorer': 'https://etherscan.io/token/0xe53ec727dbdeb9e2d5456c3be40cff031ab40a55'}, {'id': 'ravencoin', 'rank': '89', 'symbol': 'RVN', 'name': 'Ravencoin', 'supply': '13691359247.1639180000000000', 'maxSupply': '21000000000.0000000000000000', 'marketCapUsd': '598586877.9694543169670277', 'volumeUsd24Hr': '78787289.0865297967998732', 'priceUsd': '0.0437200475981556', 'changePercent24Hr': '-5.4266842143177151', 'vwap24Hr': '0.0455641752849594', 'explorer': 'https://ravencoin.network/'}, {'id': 'celo', 'rank': '90', 'symbol': 'CELO', 'name': 'Celo', 'supply': '533817831.0000000000000000', 'maxSupply': '1000000000.0000000000000000', 'marketCapUsd': '593474131.0484508181164180', 'volumeUsd24Hr': '12163419.5403646234032183', 'priceUsd': '1.1117540415176780', 'changePercent24Hr': '1.6240280157820214', 'vwap24Hr': '1.0791659507022712', 'explorer': 'https://explorer.celo.org/blocks'}, {'id': 'ftx-token', 'rank': '91', 'symbol': 'FTT', 'name': 'FTX Token', 'supply': '328895103.8132070000000000', 'maxSupply': '352170015.0000000000000000', 'marketCapUsd': '584958677.6160472164109874', 'volumeUsd24Hr': '16686406.0324907245734149', 'priceUsd': '1.7785569649229841', 'changePercent24Hr': '2.9463781843946408', 'vwap24Hr': '1.7421819540270343', 'explorer': 'https://etherscan.io/token/0x50d1c9771902476076ecfc8b2a83ad6b9355a4c9'}, {'id': 'compound', 'rank': '92', 'symbol': 'COMP', 'name': 'Compound', 'supply': '8096652.9022952700000000', 'maxSupply': '10000000.0000000000000000', 'marketCapUsd': '581258085.2048788258486226', 'volumeUsd24Hr': '30072581.0812173650264312', 'priceUsd': '71.7899226037096848', 'changePercent24Hr': '1.6984251494762650', 'vwap24Hr': '70.5139564839465039', 'explorer': 'https://etherscan.io/token/0xc00e94cb662c3520282e6f5717214004a7f26888'}, {'id': 'zilliqa', 'rank': '93', 'symbol': 'ZIL', 'name': 'Zilliqa', 'supply': '17372203179.0000000000000000', 'maxSupply': '21000000000.0000000000000000', 'marketCapUsd': '578424186.2358603902620941', 'volumeUsd24Hr': '23205537.1879758902263467', 'priceUsd': '0.0332959602346279', 'changePercent24Hr': '1.2623152643689443', 'vwap24Hr': '0.0327538123572457', 'explorer': 'https://etherscan.io/token/0x05f4a42e251f2d52b8ed15e9fedaacfcef1fad27'}, {'id': 'dydx', 'rank': '94', 'symbol': 'DYDX', 'name': 'dYdX', 'supply': '183765523.0000000000000000', 'maxSupply': '1000000000.0000000000000000', 'marketCapUsd': '576093793.3718967547310756', 'volumeUsd24Hr': '36288101.6106808631264511', 'priceUsd': '3.1349394813949772', 'changePercent24Hr': '0.8323157592680270', 'vwap24Hr': '3.0719257891020974', 'explorer': None}, {'id': 'rocket-pool', 'rank': '95', 'symbol': 'RPL', 'name': 'Rocket Pool', 'supply': '20217174.1801535400000000', 'maxSupply': None, 'marketCapUsd': '569897871.3174027839220000', 'volumeUsd24Hr': '617463.5393847443095401', 'priceUsd': '28.1887995938052840', 'changePercent24Hr': '-3.4756331972128150', 'vwap24Hr': '27.8301358540684206', 'explorer': 'https://etherscan.io/token/0xb4efd85c19999d84251304bda99e90b92300bd93'}, {'id': '0x', 'rank': '96', 'symbol': 'ZRX', 'name': '0x Protocol', 'supply': '847496054.8027713000000000', 'maxSupply': '1000000000.0000000000000000', 'marketCapUsd': '568791188.8069186966609816', 'volumeUsd24Hr': '26390143.9232787203672075', 'priceUsd': '0.6711431700284285', 'changePercent24Hr': '-0.1212238019063852', 'vwap24Hr': '0.6561506856840913', 'explorer': 'https://etherscan.io/token/ZRX'}, {'id': 'xinfin-network', 'rank': '97', 'symbol': 'XDC', 'name': 'XinFin Network', 'supply': '12293293518.5500000000000000', 'maxSupply': None, 'marketCapUsd': '554547116.4304408515388828', 'volumeUsd24Hr': '1448284.4033357309186889', 'priceUsd': '0.0451097271527484', 'changePercent24Hr': '0.9284544117113316', 'vwap24Hr': '0.0456040651093720', 'explorer': 'https://etherscan.io/token/0x41ab1b6fcbb2fa9dced81acbdec13ea6315f2bf2'}, {'id': 'ankr', 'rank': '98', 'symbol': 'ANKR', 'name': 'Ankr', 'supply': '10000000000.0000000000000000', 'maxSupply': None, 'marketCapUsd': '553520329.0826490000000000', 'volumeUsd24Hr': '34784385.0811844671552759', 'priceUsd': '0.0553520329082649', 'changePercent24Hr': '-3.2463682016154960', 'vwap24Hr': '0.0561027442594924', 'explorer': 'https://etherscan.io/token/0x8290333ceF9e6D528dD5618Fb97a76f268f3EDD4'}, {'id': 'theta-fuel', 'rank': '99', 'symbol': 'TFUEL', 'name': 'Theta Fuel', 'supply': '6501392113.0000000000000000', 'maxSupply': None, 'marketCapUsd': '549464959.5915955625567709', 'volumeUsd24Hr': '5122256.7516728630327252', 'priceUsd': '0.0845149700312493', 'changePercent24Hr': '0.6912519312748104', 'vwap24Hr': '0.0834395441786804', 'explorer': 'https://explorer.thetatoken.org/'}, {'id': 'livepeer', 'rank': '100', 'symbol': 'LPT', 'name': 'Livepeer', 'supply': '31579806.3218444800000000', 'maxSupply': None, 'marketCapUsd': '541632771.3647696701727650', 'volumeUsd24Hr': '15263529.1436092519406932', 'priceUsd': '17.1512379095912883', 'changePercent24Hr': '2.0799553839103090', 'vwap24Hr': '16.6147254384854435', 'explorer': 'https://explorer.livepeer.org/'}], 'timestamp': 1712136490758}\n"
     ]
    }
   ],
   "source": [
    "json_data = response.json()\n",
    "print(json_data)"
   ],
   "metadata": {
    "collapsed": false,
    "ExecuteTime": {
     "end_time": "2024-04-03T09:28:13.402411600Z",
     "start_time": "2024-04-03T09:28:13.392714Z"
    }
   },
   "id": "14d60fdab0f60f0c"
  },
  {
   "cell_type": "code",
   "execution_count": 7,
   "outputs": [
    {
     "name": "stdout",
     "output_type": "stream",
     "text": [
      "                id rank symbol            name                         supply  \\\n",
      "0          bitcoin    1    BTC         Bitcoin      19671900.0000000000000000   \n",
      "1         ethereum    2    ETH        Ethereum     120069288.4506371900000000   \n",
      "2           tether    3   USDT          Tether  105280728305.6839300000000000   \n",
      "3     binance-coin    4    BNB             BNB     166801148.0000000000000000   \n",
      "4           solana    5    SOL          Solana     444821192.7350364300000000   \n",
      "..             ...  ...    ...             ...                            ...   \n",
      "95              0x   96    ZRX     0x Protocol     847496054.8027713000000000   \n",
      "96  xinfin-network   97    XDC  XinFin Network   12293293518.5500000000000000   \n",
      "97            ankr   98   ANKR            Ankr   10000000000.0000000000000000   \n",
      "98      theta-fuel   99  TFUEL      Theta Fuel    6501392113.0000000000000000   \n",
      "99        livepeer  100    LPT        Livepeer      31579806.3218444800000000   \n",
      "\n",
      "                      maxSupply                    marketCapUsd  \\\n",
      "0     21000000.0000000000000000  1308081380659.3845421112223900   \n",
      "1                          None   400601012753.5960542305281371   \n",
      "2                          None   105371390595.6427367095154348   \n",
      "3    166801148.0000000000000000    94440676343.0323988359771800   \n",
      "4                          None    84673839704.7793773135794697   \n",
      "..                          ...                             ...   \n",
      "95  1000000000.0000000000000000      568791188.8069186966609816   \n",
      "96                         None      554547116.4304408515388828   \n",
      "97                         None      553520329.0826490000000000   \n",
      "98                         None      549464959.5915955625567709   \n",
      "99                         None      541632771.3647696701727650   \n",
      "\n",
      "                   volumeUsd24Hr                priceUsd    changePercent24Hr  \\\n",
      "0   14839274654.7292618736235451  66494.9181654738252081   0.2225684147820594   \n",
      "1    8809012909.6599867687018564   3336.4153142149325676  -0.1665857999201907   \n",
      "2   30222456420.4931888189937159      1.0008611480127262  -0.0012929566454139   \n",
      "3     672934734.9851707407155374    566.1872083939877850   0.9900453066677432   \n",
      "4    1701872493.2001037407050939    190.3547787014196040   4.3622490486951903   \n",
      "..                           ...                     ...                  ...   \n",
      "95     26390143.9232787203672075      0.6711431700284285  -0.1212238019063852   \n",
      "96      1448284.4033357309186889      0.0451097271527484   0.9284544117113316   \n",
      "97     34784385.0811844671552759      0.0553520329082649  -3.2463682016154960   \n",
      "98      5122256.7516728630327252      0.0845149700312493   0.6912519312748104   \n",
      "99     15263529.1436092519406932     17.1512379095912883   2.0799553839103090   \n",
      "\n",
      "                  vwap24Hr                                           explorer  \n",
      "0   65757.4266718169318587                           https://blockchain.info/  \n",
      "1    3292.9272858845513752                              https://etherscan.io/  \n",
      "2       1.0009424263721249             https://www.omniexplorer.info/asset/31  \n",
      "3     554.9305607596393477  https://etherscan.io/token/0xB8c77482e45F1F44d...  \n",
      "4     183.2646633890802823                       https://explorer.solana.com/  \n",
      "..                     ...                                                ...  \n",
      "95      0.6561506856840913                     https://etherscan.io/token/ZRX  \n",
      "96      0.0456040651093720  https://etherscan.io/token/0x41ab1b6fcbb2fa9dc...  \n",
      "97      0.0561027442594924  https://etherscan.io/token/0x8290333ceF9e6D528...  \n",
      "98      0.0834395441786804                   https://explorer.thetatoken.org/  \n",
      "99     16.6147254384854435                     https://explorer.livepeer.org/  \n",
      "\n",
      "[100 rows x 12 columns]\n"
     ]
    }
   ],
   "source": [
    "df = pd.json_normalize(json_data, \"data\")\n",
    "print(df)"
   ],
   "metadata": {
    "collapsed": false,
    "ExecuteTime": {
     "end_time": "2024-04-03T09:28:16.110032500Z",
     "start_time": "2024-04-03T09:28:16.094973700Z"
    }
   },
   "id": "d2ae057c845b7b27"
  },
  {
   "cell_type": "code",
   "execution_count": 9,
   "outputs": [
    {
     "data": {
      "text/plain": "100"
     },
     "execution_count": 9,
     "metadata": {},
     "output_type": "execute_result"
    }
   ],
   "source": [
    "engine = create_engine(connection_string)\n",
    "df.to_sql('coincap_market', engine, if_exists='replace', index=False)"
   ],
   "metadata": {
    "collapsed": false,
    "ExecuteTime": {
     "end_time": "2024-04-03T09:28:56.564589900Z",
     "start_time": "2024-04-03T09:28:56.268532Z"
    }
   },
   "id": "144bd1308caaa408"
  },
  {
   "cell_type": "code",
   "execution_count": null,
   "outputs": [],
   "source": [],
   "metadata": {
    "collapsed": false
   },
   "id": "6a905a06c4bb818d"
  }
 ],
 "metadata": {
  "kernelspec": {
   "display_name": "Python 3",
   "language": "python",
   "name": "python3"
  },
  "language_info": {
   "codemirror_mode": {
    "name": "ipython",
    "version": 2
   },
   "file_extension": ".py",
   "mimetype": "text/x-python",
   "name": "python",
   "nbconvert_exporter": "python",
   "pygments_lexer": "ipython2",
   "version": "2.7.6"
  }
 },
 "nbformat": 4,
 "nbformat_minor": 5
}
